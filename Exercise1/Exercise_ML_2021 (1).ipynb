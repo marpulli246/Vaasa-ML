{
 "cells": [
  {
   "cell_type": "markdown",
   "metadata": {},
   "source": [
    "<h1> Exercise 1"
   ]
  },
  {
   "cell_type": "markdown",
   "metadata": {},
   "source": [
    ">Data Handling exercise"
   ]
  },
  {
   "cell_type": "markdown",
   "metadata": {},
   "source": [
    "<p style=\"color:orange\"> This exercise is for those who are already familiar with python"
   ]
  },
  {
   "cell_type": "markdown",
   "metadata": {},
   "source": [
    "\n",
    "# A Visual Exploration and Statistical Analysis of a Diabetes Dataset using Python\n",
    "## This Dataset is Freely Available\n",
    "\n",
    "### Overview:\n",
    "The data was collected and made available by the \"National Institute of Diabetes and Digestive and Kidney Diseases\" as part of the Pima Indians Diabetes Database. \n",
    "\n",
    "`Diabetes.csv` is available [from Kaggle](https://www.kaggle.com/uciml/pima-indians-diabetes-database). \n",
    "++++++++++++++++++++++++++++++++++++\n",
    "\n",
    "The following features are present in the dataset:\n",
    "* **Pregnancies:**  Number of times pregnant\n",
    "* **Glucose:** Plasma glucose concentration over 2 hours in an oral glucose tolerance test\n",
    "* **BloodPressure:** Diastolic blood pressure (mm Hg)\n",
    "* **SkinThickness:** Triceps skin fold thickness (mm)\n",
    "* **Insulin:** 2-Hour serum insulin (mu U/ml)\n",
    "* **BMI:** Body mass index (weight in kg/(height in m)2)\n",
    "* **DiabetesPedigreeFunction:** Diabetes pedigree function (a function which scores likelihood of diabetes based on family history)\n",
    "* **Age:** Age (years)\n",
    "* **Outcome:** Class variable (0 if non-diabetic, 1 if diabetic)\n",
    "\n",
    "\n",
    "## Scenario: Imagine you have collected this data and wish to analyse it"
   ]
  },
  {
   "cell_type": "markdown",
   "metadata": {},
   "source": [
    "<p> In Moodle, you are going to work with a data named \"Diabetess.csv\". \n",
    "<p> It is the same  Diabetes dataset but saved as \"Diabetess.csv\" for this exercise."
   ]
  },
  {
   "cell_type": "markdown",
   "metadata": {},
   "source": [
    "<h3> A. Here are the expected things to do in this exercise"
   ]
  },
  {
   "cell_type": "markdown",
   "metadata": {},
   "source": [
    ">1. Import the necessary/required libraries.\n",
    ">\n",
    ">2. Load the data (Diabetes.csv)\n",
    ">\n",
    ">3. Show the information about the data.\n",
    ">\n",
    ">4. Describe the data\n",
    ">>>>> **Points allocated for this step:** (0.5 point)"
   ]
  },
  {
   "cell_type": "markdown",
   "metadata": {},
   "source": [
    "<h3> B. Handle the missing data"
   ]
  },
  {
   "cell_type": "markdown",
   "metadata": {},
   "source": [
    "### Missing and Zero Values\n",
    "\n",
    "* It is clear the data has missing and zero values\n",
    "* For example, we can see that SkinThickness = 0 in the third row\n",
    "* And we can also see some 'NaN' values\n",
    "* Sometimes missing values are represented by a '?'\n",
    "* Get more info and decide on how to handle these issues as instructed below:"
   ]
  },
  {
   "cell_type": "markdown",
   "metadata": {},
   "source": [
    "> 5. If the data uses '?' for missing values then we can replace them with a NaN."
   ]
  },
  {
   "cell_type": "markdown",
   "metadata": {},
   "source": [
    "## Insulin has a large number of missing values .. so we can drop that column"
   ]
  },
  {
   "cell_type": "markdown",
   "metadata": {},
   "source": [
    "> 6. Drop all rows that contain missing values.\n",
    ">\n",
    "> 7. Drop all rows that contain missing values?\n",
    ">\n",
    "> 8. Show the shape of the data.\n",
    ">\n",
    "> 9. Describe the data.\n",
    ">\n",
    "> 10. Show the information of the cleaned data.\n",
    ">\n",
    "\n",
    ">>>>> **Points allocated for this step:** (0.5 point)"
   ]
  },
  {
   "cell_type": "markdown",
   "metadata": {},
   "source": [
    "#### The Mean and Median\n",
    "\n",
    "* **The mean** is the simple mathematical average of a list of two or more numbers. \n",
    "* **The median** is the middle number in a sorted, ascending or descending, list of numbers and can be more descriptive of that data set than the average.\n",
    "\n",
    "https://www.investopedia.com/terms-beginning-with-m-4769363"
   ]
  },
  {
   "cell_type": "markdown",
   "metadata": {},
   "source": [
    "#### Zero Values that Don't Make Sense"
   ]
  },
  {
   "cell_type": "markdown",
   "metadata": {},
   "source": [
    "<p> In case you want would like to replace the missing values by the mean or median value\n",
    "<p> Here is an example of the code below"
   ]
  },
  {
   "cell_type": "code",
   "execution_count": null,
   "metadata": {},
   "outputs": [],
   "source": [
    "### Replace missing values in each column with the mean or median of that column\n",
    "#data.fillna(df.mean())\n",
    "#data.fillna(df.median())"
   ]
  },
  {
   "cell_type": "markdown",
   "metadata": {},
   "source": [
    "<p> In our exercise, remove all the rows with zero with the exception of the first and last columns.\n",
    "\n",
    ">Here is an example of the code to that:"
   ]
  },
  {
   "cell_type": "code",
   "execution_count": null,
   "metadata": {},
   "outputs": [],
   "source": [
    "## get data where non of the columns has 0 value (except the first and last columns)\n",
    "data = data[~(data[data.columns[1:-1]] == 0).any(axis=1)]\n",
    "data.shape"
   ]
  },
  {
   "cell_type": "code",
   "execution_count": null,
   "metadata": {},
   "outputs": [],
   "source": [
    "data.head()"
   ]
  },
  {
   "cell_type": "markdown",
   "metadata": {},
   "source": [
    "### Some Summary Information"
   ]
  },
  {
   "cell_type": "code",
   "execution_count": null,
   "metadata": {},
   "outputs": [],
   "source": [
    "%%HTML\n",
    "<style type=\"text/css\">\n",
    "table.dataframe td, table.dataframe th {\n",
    "    border: 1px  black solid !important;\n",
    "  color: black !important;\n",
    "}\n",
    "</style>"
   ]
  },
  {
   "cell_type": "code",
   "execution_count": null,
   "metadata": {},
   "outputs": [],
   "source": [
    "data.describe()"
   ]
  },
  {
   "cell_type": "code",
   "execution_count": null,
   "metadata": {},
   "outputs": [],
   "source": [
    "## check the mean of values depending on their category (i.e. 0 or 1)\n",
    "data.groupby('Outcome').mean()"
   ]
  },
  {
   "cell_type": "code",
   "execution_count": null,
   "metadata": {},
   "outputs": [],
   "source": [
    "# the difference between the mean and median is a good indicator of how much skewed your data is!\n",
    "data.groupby('Outcome').agg(['mean','median'])"
   ]
  },
  {
   "cell_type": "markdown",
   "metadata": {},
   "source": [
    "# 2- Useful and Informative Plots"
   ]
  },
  {
   "cell_type": "markdown",
   "metadata": {},
   "source": [
    "## Histogram Plots"
   ]
  },
  {
   "cell_type": "markdown",
   "metadata": {},
   "source": [
    "<p> Plot the histogram plots of each variable </p>\n",
    "\n",
    "> Allocated points (1 point)"
   ]
  },
  {
   "cell_type": "markdown",
   "metadata": {},
   "source": [
    "## Scatter Matrix\n",
    "\n",
    "* This one is a useful one liner ... but note that it only works with numeric data\n",
    "* If you want to include categorical data in there you should convert the categories into numeric labels\n",
    "\n",
    "> Allocated points (1 point)"
   ]
  },
  {
   "cell_type": "markdown",
   "metadata": {},
   "source": [
    "## Conclusion"
   ]
  },
  {
   "cell_type": "markdown",
   "metadata": {},
   "source": [
    "<p> You can submit the exercise by submitting the Jupyter notebook file (ipynb) or as pdf\n",
    "\n",
    ">The main aim of this exercise is to explore the data and handle the possibility of missing data (rows or columns)"
   ]
  },
  {
   "cell_type": "markdown",
   "metadata": {},
   "source": [
    "<p> The same data will be used for exercise 2.\n",
    "<p> Exercise 2 continues from here."
   ]
  },
  {
   "cell_type": "markdown",
   "metadata": {},
   "source": [
    "# Well Done!"
   ]
  }
 ],
 "metadata": {
  "kernelspec": {
   "display_name": "Python 3",
   "language": "python",
   "name": "python3"
  },
  "language_info": {
   "codemirror_mode": {
    "name": "ipython",
    "version": 3
   },
   "file_extension": ".py",
   "mimetype": "text/x-python",
   "name": "python",
   "nbconvert_exporter": "python",
   "pygments_lexer": "ipython3",
   "version": "3.7.1"
  }
 },
 "nbformat": 4,
 "nbformat_minor": 2
}
