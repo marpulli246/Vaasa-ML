{
 "cells": [
  {
   "cell_type": "markdown",
   "metadata": {},
   "source": [
    "<h1> Exercise 1"
   ]
  },
  {
   "cell_type": "markdown",
   "metadata": {},
   "source": [
    ">Data Handling exercise"
   ]
  },
  {
   "cell_type": "markdown",
   "metadata": {},
   "source": [
    "<p style=\"color:orange\"> This exercise is for those who are already familiar with python"
   ]
  },
  {
   "cell_type": "markdown",
   "metadata": {},
   "source": [
    "\n",
    "# A Visual Exploration and Statistical Analysis of a Diabetes Dataset using Python\n",
    "## This Dataset is Freely Available\n",
    "\n",
    "### Overview:\n",
    "The data was collected and made available by the \"National Institute of Diabetes and Digestive and Kidney Diseases\" as part of the Pima Indians Diabetes Database. \n",
    "\n",
    "`Diabetes.csv` is available [from Kaggle](https://www.kaggle.com/uciml/pima-indians-diabetes-database). \n",
    "++++++++++++++++++++++++++++++++++++\n",
    "\n",
    "The following features are present in the dataset:\n",
    "* **Pregnancies:**  Number of times pregnant\n",
    "* **Glucose:** Plasma glucose concentration over 2 hours in an oral glucose tolerance test\n",
    "* **BloodPressure:** Diastolic blood pressure (mm Hg)\n",
    "* **SkinThickness:** Triceps skin fold thickness (mm)\n",
    "* **Insulin:** 2-Hour serum insulin (mu U/ml)\n",
    "* **BMI:** Body mass index (weight in kg/(height in m)2)\n",
    "* **DiabetesPedigreeFunction:** Diabetes pedigree function (a function which scores likelihood of diabetes based on family history)\n",
    "* **Age:** Age (years)\n",
    "* **Outcome:** Class variable (0 if non-diabetic, 1 if diabetic)\n",
    "\n",
    "\n",
    "## Scenario: Imagine you have collected this data and wish to analyse it"
   ]
  },
  {
   "cell_type": "markdown",
   "metadata": {},
   "source": [
    "<p> In Moodle, you are going to work with a data named \"Diabetess.csv\". \n",
    "<p> It is the same  Diabetes dataset but saved as \"Diabetess.csv\" for this exercise."
   ]
  },
  {
   "cell_type": "markdown",
   "metadata": {},
   "source": [
    "<h3> A. Here are the expected things to do in this exercise"
   ]
  },
  {
   "cell_type": "markdown",
   "metadata": {},
   "source": [
    ">1. Import the necessary/required libraries.\n",
    ">\n",
    ">2. Load the data (Diabetes.csv)\n",
    ">\n",
    ">3. Show the information about the data.\n",
    ">\n",
    ">4. Describe the data\n",
    ">>>>> **Points allocated for this step:** (0.5 point)"
   ]
  },
  {
   "cell_type": "code",
   "execution_count": null,
   "metadata": {},
   "outputs": [],
   "source": [
    "pip install seaborn"
   ]
  },
  {
   "cell_type": "code",
   "execution_count": 1,
   "metadata": {},
   "outputs": [],
   "source": [
    "import numpy as np\n",
    "import pandas as pd\n",
    "import seaborn as sns\n",
    "import matplotlib.pyplot as plt"
   ]
  },
  {
   "cell_type": "code",
   "execution_count": 2,
   "metadata": {},
   "outputs": [],
   "source": [
    "#Read the input data to dataframe.\n",
    "df = pd.read_csv('Diabetess.csv')"
   ]
  },
  {
   "cell_type": "code",
   "execution_count": null,
   "metadata": {},
   "outputs": [],
   "source": [
    "#See how data looks.\n",
    "df.head()"
   ]
  },
  {
   "cell_type": "code",
   "execution_count": null,
   "metadata": {},
   "outputs": [],
   "source": [
    "#Check for null values.\n",
    "df.isnull()"
   ]
  },
  {
   "cell_type": "code",
   "execution_count": null,
   "metadata": {},
   "outputs": [],
   "source": [
    "#list all the columns and data types. Check if features/label are missing data.\n",
    "df.info()"
   ]
  },
  {
   "cell_type": "markdown",
   "metadata": {},
   "source": [
    "Glucose, Insulin and BMI missing data. Insuling almost 50% missing data. Replace with values or remove after analysis."
   ]
  },
  {
   "cell_type": "code",
   "execution_count": null,
   "metadata": {},
   "outputs": [],
   "source": [
    "#Check data ranges and potential outliers. How is ditribution. \n",
    "df.describe()"
   ]
  },
  {
   "cell_type": "markdown",
   "metadata": {},
   "source": [
    "<h3> B. Handle the missing data"
   ]
  },
  {
   "cell_type": "markdown",
   "metadata": {},
   "source": [
    "### Missing and Zero Values\n",
    "\n",
    "* It is clear the data has missing and zero values\n",
    "* For example, we can see that SkinThickness = 0 in the third row\n",
    "* And we can also see some 'NaN' values\n",
    "* Sometimes missing values are represented by a '?'\n",
    "* Get more info and decide on how to handle these issues as instructed below:"
   ]
  },
  {
   "cell_type": "markdown",
   "metadata": {},
   "source": [
    "> 5. If the data uses '?' for missing values then we can replace them with a NaN."
   ]
  },
  {
   "cell_type": "markdown",
   "metadata": {},
   "source": [
    "## Insulin has a large number of missing values .. so we can drop that column"
   ]
  },
  {
   "cell_type": "markdown",
   "metadata": {},
   "source": [
    "> 6. Drop all rows that contain missing values.\n",
    ">\n",
    "> 7. Drop all rows that contain missing values?\n",
    ">\n",
    "> 8. Show the shape of the data.\n",
    ">\n",
    "> 9. Describe the data.\n",
    ">\n",
    "> 10. Show the information of the cleaned data.\n",
    ">\n",
    "\n",
    ">>>>> **Points allocated for this step:** (0.5 point)"
   ]
  },
  {
   "cell_type": "markdown",
   "metadata": {},
   "source": [
    "#### The Mean and Median\n",
    "\n",
    "* **The mean** is the simple mathematical average of a list of two or more numbers. \n",
    "* **The median** is the middle number in a sorted, ascending or descending, list of numbers and can be more descriptive of that data set than the average.\n",
    "\n",
    "https://www.investopedia.com/terms-beginning-with-m-4769363"
   ]
  },
  {
   "cell_type": "markdown",
   "metadata": {},
   "source": [
    "#### Zero Values that Don't Make Sense"
   ]
  },
  {
   "cell_type": "markdown",
   "metadata": {},
   "source": [
    "<p> In case you want would like to replace the missing values by the mean or median value\n",
    "<p> Here is an example of the code below"
   ]
  },
  {
   "cell_type": "code",
   "execution_count": 3,
   "metadata": {},
   "outputs": [],
   "source": [
    "### Replace missing values in each column with the mean or median of that column. \n",
    "#data = df.fillna(df.mean())\n",
    "#data = df.fillna(df.median())\n",
    "#data = pd.concat([df.ffill(), df.bfill()]).groupby(level=0).median()\n",
    "#Fill in missing insuling data according to outcome type insulin mean.\n",
    "tmp = df[df['Insulin'].notnull()]\n",
    "tmp = tmp[['Insulin', 'Outcome']].groupby(['Outcome'])[['Insulin']].mean().reset_index()\n",
    "df.loc[(df['Outcome'] == 0 ) & (df['Insulin'].isnull()), 'Insulin'] = tmp.iloc[0]['Insulin']\n",
    "df.loc[(df['Outcome'] == 1 ) & (df['Insulin'].isnull()), 'Insulin'] = tmp.iloc[1]['Insulin']\n",
    "data=df.fillna(df.mean())"
   ]
  },
  {
   "cell_type": "markdown",
   "metadata": {},
   "source": [
    "<p> In our exercise, remove all the rows with zero with the exception of the first and last columns.\n",
    "\n",
    ">Here is an example of the code to that:"
   ]
  },
  {
   "cell_type": "code",
   "execution_count": 4,
   "metadata": {},
   "outputs": [
    {
     "data": {
      "text/plain": [
       "(539, 9)"
      ]
     },
     "execution_count": 4,
     "metadata": {},
     "output_type": "execute_result"
    }
   ],
   "source": [
    "## get data where non of the columns has 0 value (except the first and last columns). Check the shape.\n",
    "clean_data = data[~(data[data.columns[1:-1]] == 0).any(axis=1)]\n",
    "clean_data.shape"
   ]
  },
  {
   "cell_type": "code",
   "execution_count": null,
   "metadata": {},
   "outputs": [],
   "source": [
    "#Have a look on cleaned data.\n",
    "clean_data.head(20)"
   ]
  },
  {
   "cell_type": "code",
   "execution_count": null,
   "metadata": {},
   "outputs": [],
   "source": [
    "#All the features/attributes and label have same count!! No missing or null values found.\n",
    "clean_data.info()"
   ]
  },
  {
   "cell_type": "markdown",
   "metadata": {},
   "source": [
    "### Some Summary Information"
   ]
  },
  {
   "cell_type": "code",
   "execution_count": null,
   "metadata": {},
   "outputs": [],
   "source": [
    "%%HTML\n",
    "<style type=\"text/css\">\n",
    "table.dataframe td, table.dataframe th {\n",
    "    border: 1px  black solid !important;\n",
    "  color: black !important;\n",
    "}\n",
    "</style>"
   ]
  },
  {
   "cell_type": "code",
   "execution_count": null,
   "metadata": {},
   "outputs": [],
   "source": [
    "#Check the data ranges once more.\n",
    "clean_data.describe()"
   ]
  },
  {
   "cell_type": "code",
   "execution_count": null,
   "metadata": {},
   "outputs": [],
   "source": [
    "## check the mean of values depending on their category (i.e. 0 or 1)\n",
    "clean_data.groupby('Outcome').mean()"
   ]
  },
  {
   "cell_type": "code",
   "execution_count": null,
   "metadata": {},
   "outputs": [],
   "source": [
    "# the difference between the mean and median is a good indicator of how much skewed your data is!\n",
    "clean_data.groupby('Outcome').agg(['mean','median'])"
   ]
  },
  {
   "cell_type": "markdown",
   "metadata": {},
   "source": [
    "Insulin mean and median delta is elevated. This is for cases with diabetes. NaN mean/meadian replacement might not be correct way to do it. Further analysis shows it is elevated even before NaN replacement. One option is to drop 'Insulin' column from final data."
   ]
  },
  {
   "cell_type": "markdown",
   "metadata": {},
   "source": [
    "# 2- Useful and Informative Plots"
   ]
  },
  {
   "cell_type": "markdown",
   "metadata": {},
   "source": [
    "## Histogram Plots"
   ]
  },
  {
   "cell_type": "markdown",
   "metadata": {},
   "source": [
    "<p> Plot the histogram plots of each variable </p>\n",
    "\n",
    "> Allocated points (1 point)"
   ]
  },
  {
   "cell_type": "code",
   "execution_count": null,
   "metadata": {},
   "outputs": [],
   "source": [
    "#Histogram plots\n",
    "plt.figure(figsize=(16,12))\n",
    "for i in range(1, 10):\n",
    "    plt.subplot(3, 3, i)\n",
    "    col = clean_data.columns[i-1]\n",
    "    plt.hist(clean_data[col], bins=30)\n",
    "    plt.title(col)"
   ]
  },
  {
   "cell_type": "markdown",
   "metadata": {},
   "source": [
    "## Scatter Matrix\n",
    "\n",
    "* This one is a useful one liner ... but note that it only works with numeric data\n",
    "* If you want to include categorical data in there you should convert the categories into numeric labels\n",
    "\n",
    "> Allocated points (1 point)"
   ]
  },
  {
   "cell_type": "code",
   "execution_count": null,
   "metadata": {},
   "outputs": [],
   "source": [
    "#Scatter matrix, Outcome used for coloring scheme. Blue - No, Orange - yes\n",
    "sns.pairplot(clean_data, hue=\"Outcome\")"
   ]
  },
  {
   "cell_type": "markdown",
   "metadata": {},
   "source": [
    "It looks Glucose have stronger correlation with outcome and other features. Distribution for non-diabetes cases show normal distribution. Positive cases show some non-normal distribution. Will this require normalization?"
   ]
  },
  {
   "cell_type": "code",
   "execution_count": null,
   "metadata": {},
   "outputs": [],
   "source": [
    "#Let's have closer look on some of the data.\n",
    "fig, ax = plt.subplots()\n",
    "x=clean_data['BMI']\n",
    "y=clean_data['Glucose']\n",
    "ax.scatter(x, y, c=clean_data['Outcome'], s=clean_data['Glucose']/2)\n",
    "ax.legend(x)\n",
    "ax.grid(True)\n",
    "plt.show()"
   ]
  },
  {
   "cell_type": "code",
   "execution_count": null,
   "metadata": {},
   "outputs": [],
   "source": [
    "#3D plotting\n",
    "from mpl_toolkits.mplot3d import Axes3D\n",
    "\n",
    "fig = plt.figure()\n",
    "ax = fig.add_subplot(111, projection = '3d')\n",
    "x = clean_data['Age']\n",
    "y = clean_data['BMI']\n",
    "z = clean_data['Glucose']\n",
    "ax.scatter(x, y, z,c=clean_data['Outcome'])\n",
    "ax.set_xlabel(\"Age\")\n",
    "ax.set_ylabel(\"BMI\")\n",
    "ax.set_zlabel(\"Glucose\")\n",
    "\n",
    "plt.show()"
   ]
  },
  {
   "cell_type": "code",
   "execution_count": null,
   "metadata": {},
   "outputs": [],
   "source": [
    "#Heatmap for feature and label correlation.\n",
    "corr = clean_data.corr()\n",
    "sns.heatmap(corr, annot=True)"
   ]
  },
  {
   "cell_type": "markdown",
   "metadata": {},
   "source": [
    "## Conclusion"
   ]
  },
  {
   "cell_type": "markdown",
   "metadata": {},
   "source": [
    "<p> You can submit the exercise by submitting the Jupyter notebook file (ipynb) or as pdf\n",
    "\n",
    ">The main aim of this exercise is to explore the data and handle the possibility of missing data (rows or columns)"
   ]
  },
  {
   "cell_type": "markdown",
   "metadata": {},
   "source": [
    "Notes from histograms and scatter matrix.###\n",
    "\n",
    "Insulin Null data replaced with mean or median will create high spike for this category as almost half of the data is not available. This potentially can skew the outcome. Look for other option to replace missing value. bfill/ffill used. Also Insulin-Glucose there is a correlation according to heatmap. Other option to fill missing insulin values taking values matching Glucose.\n",
    "Clucose level has high correlation to outcome.\n",
    "Age is not evenly balanced as most samples are <50 years. Check accuracy of model once trained.\n",
    "Non-diabetics are double amount in 'Outcome' category. Not totally balanced data but still workable.\n",
    "Model training and validation will show if any further data wrangling is needed.\n",
    "Scaling and normalization also options."
   ]
  },
  {
   "cell_type": "markdown",
   "metadata": {},
   "source": [
    "<p> The same data will be used for exercise 2.\n",
    "<p> Exercise 2 continues from here."
   ]
  },
  {
   "cell_type": "markdown",
   "metadata": {},
   "source": [
    "# Well Done!"
   ]
  },
  {
   "cell_type": "markdown",
   "metadata": {},
   "source": [
    "<h1> Exercise 2 Classification task"
   ]
  },
  {
   "cell_type": "code",
   "execution_count": 5,
   "metadata": {},
   "outputs": [],
   "source": [
    "from sklearn.linear_model import LogisticRegression\n",
    "from sklearn.model_selection import train_test_split\n",
    "from sklearn.metrics import classification_report, confusion_matrix\n",
    "from sklearn.preprocessing import StandardScaler\n",
    "from sklearn.metrics import confusion_matrix\n",
    "from sklearn.metrics import classification_report, accuracy_score"
   ]
  },
  {
   "cell_type": "code",
   "execution_count": 6,
   "metadata": {},
   "outputs": [],
   "source": [
    "features = clean_data.drop(columns='Outcome')\n",
    "#labels = np.array(clean_data['Outcome'])\n",
    "labels = clean_data['Outcome']"
   ]
  },
  {
   "cell_type": "code",
   "execution_count": 7,
   "metadata": {},
   "outputs": [
    {
     "data": {
      "text/plain": [
       "(539, 8)"
      ]
     },
     "execution_count": 7,
     "metadata": {},
     "output_type": "execute_result"
    }
   ],
   "source": [
    "#Scaling the data. Logistic regression is not much affcted if no scaling done. NN model big improvemnet seen with scaling.\n",
    "#I believe it is because weighting inside the network layers requires scaled input data to reduce bias.\n",
    "st = StandardScaler()\n",
    "features_sca = st.fit_transform(features)\n",
    "features_sca.shape"
   ]
  },
  {
   "cell_type": "markdown",
   "metadata": {},
   "source": [
    "<h3> A: Logistic Regression Model"
   ]
  },
  {
   "cell_type": "code",
   "execution_count": 40,
   "metadata": {},
   "outputs": [],
   "source": [
    "#Split the data.\n",
    "X_train, X_test, y_train, y_test = train_test_split(features_sca, labels, test_size=0.4, random_state=24)"
   ]
  },
  {
   "cell_type": "code",
   "execution_count": 41,
   "metadata": {},
   "outputs": [],
   "source": [
    "#'class_weight' added and tried as number of diabetics is much less than non-diabetics in given database. \n",
    "#This improves diabetic recal rate from mid 50% to >70%. But overall model accuracy decreases. \n",
    "#l_clf = LogisticRegression(solver='liblinear', C=10.0, random_state=0, class_weight='balanced')#0.79\n",
    "l_clf = LogisticRegression(random_state = 6, \n",
    "                           solver = 'liblinear', \n",
    "                           #class_weight='balanced',\n",
    "                           multi_class='ovr',\n",
    "                           penalty='l2')"
   ]
  },
  {
   "cell_type": "code",
   "execution_count": 42,
   "metadata": {},
   "outputs": [
    {
     "data": {
      "text/plain": [
       "LogisticRegression(multi_class='ovr', random_state=6, solver='liblinear')"
      ]
     },
     "execution_count": 42,
     "metadata": {},
     "output_type": "execute_result"
    }
   ],
   "source": [
    "#Fit the model\n",
    "l_clf.fit(X_train, y_train)"
   ]
  },
  {
   "cell_type": "code",
   "execution_count": 43,
   "metadata": {},
   "outputs": [],
   "source": [
    "#Create training KPIs\n",
    "p_pred = l_clf.predict_proba(X_train)\n",
    "y_pred = l_clf.predict(X_train)\n",
    "score_ = l_clf.score(X_train, y_train)\n",
    "conf_m = confusion_matrix(y_train, y_pred)\n",
    "report = classification_report(y_train, y_pred)"
   ]
  },
  {
   "cell_type": "code",
   "execution_count": 13,
   "metadata": {},
   "outputs": [],
   "source": [
    "#Create test KPIs\n",
    "p_pred = l_clf.predict_proba(X_test)\n",
    "y_pred = l_clf.predict(X_test)\n",
    "score_ = l_clf.score(X_test, y_test)\n",
    "conf_m = confusion_matrix(y_test, y_pred)\n",
    "report = classification_report(y_test, y_pred)"
   ]
  },
  {
   "cell_type": "code",
   "execution_count": 14,
   "metadata": {},
   "outputs": [],
   "source": [
    "#Function for confusion matrix creation.\n",
    "def accuracy(confusion_matrix):\n",
    "   diagonal_sum = confusion_matrix.trace()\n",
    "   sum_of_all_elements = confusion_matrix.sum()\n",
    "   return diagonal_sum / sum_of_all_elements"
   ]
  },
  {
   "cell_type": "code",
   "execution_count": 44,
   "metadata": {},
   "outputs": [
    {
     "name": "stdout",
     "output_type": "stream",
     "text": [
      "Confusion matrix:\n",
      " [[194  23]\n",
      " [ 46  60]]\n",
      "Accuracy of LogisticRegression :  0.7863777089783281\n"
     ]
    }
   ],
   "source": [
    "#Print accuracy using confusion matrix.\n",
    "print('Confusion matrix:\\n',conf_m)\n",
    "print(\"Accuracy of LogisticRegression : \", accuracy(conf_m))"
   ]
  },
  {
   "cell_type": "code",
   "execution_count": null,
   "metadata": {},
   "outputs": [],
   "source": [
    "#Print complete KPI report.\n",
    "print('report:', report, sep='\\n')"
   ]
  },
  {
   "cell_type": "code",
   "execution_count": 16,
   "metadata": {},
   "outputs": [
    {
     "data": {
      "image/png": "[encoded data removed]",
      "text/plain": [
       "<Figure size 432x288 with 1 Axes>"
      ]
     },
     "metadata": {
      "needs_background": "light"
     },
     "output_type": "display_data"
    }
   ],
   "source": [
    "#ROC curve.\n",
    "from sklearn.metrics import roc_auc_score\n",
    "from sklearn.metrics import roc_curve\n",
    "import matplotlib.pyplot as plt\n",
    "\n",
    "logit_roc_auc = roc_auc_score(y_train, l_clf.predict(X_train))\n",
    "fpr, tpr, thresholds = roc_curve(y_train, l_clf.predict_proba(X_train)[:,1])\n",
    "\n",
    "plt.figure()\n",
    "plt.plot(fpr, tpr, label='Logistic Regression (area = %0.2f)' % logit_roc_auc)\n",
    "plt.plot([0, 1], [0, 1],'r--')\n",
    "plt.xlim([0.0, 1.0])\n",
    "plt.ylim([0.0, 1.05])\n",
    "plt.xlabel('False Positive Rate')\n",
    "plt.ylabel('True Positive Rate')\n",
    "plt.title('Receiver operating characteristic')\n",
    "plt.legend(loc=\"lower right\")\n",
    "plt.savefig('Log_ROC')\n",
    "plt.show()"
   ]
  },
  {
   "cell_type": "markdown",
   "metadata": {},
   "source": [
    "<h3> A: Neural Network"
   ]
  },
  {
   "cell_type": "code",
   "execution_count": 17,
   "metadata": {},
   "outputs": [],
   "source": [
    " from sklearn.neural_network import MLPClassifier"
   ]
  },
  {
   "cell_type": "code",
   "execution_count": 20,
   "metadata": {},
   "outputs": [],
   "source": [
    "#Create NN network layout. \n",
    "clf = MLPClassifier(solver='adam', #adam\n",
    "                     #alpha=1e-4, \n",
    "                     hidden_layer_sizes=(150,100,50), #150 best. 80 with lbfgs\n",
    "                     random_state=24, \n",
    "                     batch_size=8, \n",
    "                     verbose=False,\n",
    "                     early_stopping=True,\n",
    "                     activation='relu',\n",
    "                     learning_rate='constant',\n",
    "                     learning_rate_init=0.01,\n",
    "                     max_iter=300\n",
    "                     )"
   ]
  },
  {
   "cell_type": "code",
   "execution_count": 21,
   "metadata": {},
   "outputs": [
    {
     "data": {
      "text/plain": [
       "MLPClassifier(batch_size=8, early_stopping=True,\n",
       "              hidden_layer_sizes=(150, 100, 50), learning_rate_init=0.01,\n",
       "              max_iter=300, random_state=24)"
      ]
     },
     "execution_count": 21,
     "metadata": {},
     "output_type": "execute_result"
    }
   ],
   "source": [
    "#Fit the model.\n",
    "clf.fit(X_train, y_train)"
   ]
  },
  {
   "cell_type": "code",
   "execution_count": 22,
   "metadata": {},
   "outputs": [
    {
     "name": "stdout",
     "output_type": "stream",
     "text": [
      "MLP training accuracy: 0.826625386996904\n"
     ]
    }
   ],
   "source": [
    "#Model training performance.\n",
    "print(\"MLP training accuracy:\",clf.score(X_train, y_train))"
   ]
  },
  {
   "cell_type": "code",
   "execution_count": 23,
   "metadata": {},
   "outputs": [
    {
     "name": "stdout",
     "output_type": "stream",
     "text": [
      "MLP test accuracy: 0.8194444444444444\n"
     ]
    }
   ],
   "source": [
    "#Model prediction performance.\n",
    "print(\"MLP test accuracy:\",clf.score(X_test, y_test))"
   ]
  },
  {
   "cell_type": "code",
   "execution_count": null,
   "metadata": {},
   "outputs": [],
   "source": [
    "#Check what is probability of each test prediction.\n",
    "clf.predict_proba(X_test)"
   ]
  },
  {
   "cell_type": "code",
   "execution_count": 24,
   "metadata": {},
   "outputs": [
    {
     "name": "stdout",
     "output_type": "stream",
     "text": [
      "Accuracy of MLPClassifier :  0.8194444444444444\n"
     ]
    }
   ],
   "source": [
    "#NN model accuracy usint test data.NO NEED AS SAME AS TWO CELLS UP.\n",
    "y_pred = clf.predict(X_test)\n",
    "cm = confusion_matrix(y_pred, y_test)\n",
    "print(\"Accuracy of MLPClassifier : \", accuracy(cm))"
   ]
  },
  {
   "cell_type": "code",
   "execution_count": null,
   "metadata": {},
   "outputs": [],
   "source": [
    "#Check delta between prediction and real label.\n",
    "dat1 = pd.DataFrame(y_test)\n",
    "dat1['Prediction'] = y_pred\n",
    "dat1.head(20)"
   ]
  },
  {
   "cell_type": "code",
   "execution_count": 25,
   "metadata": {},
   "outputs": [
    {
     "data": {
      "text/plain": [
       "{'activation': 'relu',\n",
       " 'alpha': 0.0001,\n",
       " 'batch_size': 8,\n",
       " 'beta_1': 0.9,\n",
       " 'beta_2': 0.999,\n",
       " 'early_stopping': True,\n",
       " 'epsilon': 1e-08,\n",
       " 'hidden_layer_sizes': (150, 100, 50),\n",
       " 'learning_rate': 'constant',\n",
       " 'learning_rate_init': 0.01,\n",
       " 'max_fun': 15000,\n",
       " 'max_iter': 300,\n",
       " 'momentum': 0.9,\n",
       " 'n_iter_no_change': 10,\n",
       " 'nesterovs_momentum': True,\n",
       " 'power_t': 0.5,\n",
       " 'random_state': 24,\n",
       " 'shuffle': True,\n",
       " 'solver': 'adam',\n",
       " 'tol': 0.0001,\n",
       " 'validation_fraction': 0.1,\n",
       " 'verbose': False,\n",
       " 'warm_start': False}"
      ]
     },
     "execution_count": 25,
     "metadata": {},
     "output_type": "execute_result"
    }
   ],
   "source": [
    "#Show model parameters.\n",
    "clf.get_params(deep=True)"
   ]
  },
  {
   "cell_type": "markdown",
   "metadata": {},
   "source": [
    "<h3> B: Feature selection. Only BMI, glucose and age selected."
   ]
  },
  {
   "cell_type": "code",
   "execution_count": 26,
   "metadata": {},
   "outputs": [],
   "source": [
    "#Feature selection, drop features, only use glucose, BMI and age..\n",
    "\n",
    "features_sel = clean_data.drop(columns=['Pregnancies', \n",
    "                               'BloodPressure', \n",
    "                               'SkinThickness',\n",
    "                               'Insulin', \n",
    "                               'DiabetesPedigreeFunction'])"
   ]
  },
  {
   "cell_type": "code",
   "execution_count": 27,
   "metadata": {},
   "outputs": [
    {
     "data": {
      "image/png": "[encoded data removed]",
      "text/plain": [
       "<Figure size 432x288 with 2 Axes>"
      ]
     },
     "metadata": {
      "needs_background": "light"
     },
     "output_type": "display_data"
    }
   ],
   "source": [
    "#Check correlation of selected features with label.Glucose has the highest correlation with Outcome.\n",
    "sns.heatmap(features_sel.corr(),annot=True)\n",
    "plt.show()"
   ]
  },
  {
   "cell_type": "code",
   "execution_count": 28,
   "metadata": {},
   "outputs": [
    {
     "data": {
      "text/plain": [
       "(539, 3)"
      ]
     },
     "execution_count": 28,
     "metadata": {},
     "output_type": "execute_result"
    }
   ],
   "source": [
    "st = StandardScaler()\n",
    "features_sca2 = st.fit_transform(features_sel.drop(columns=['Outcome']))\n",
    "features_sca2.shape"
   ]
  },
  {
   "cell_type": "code",
   "execution_count": 51,
   "metadata": {},
   "outputs": [],
   "source": [
    "#Split the data. Instructions has keep test data size 0.001.That would leave no data for testing as there are \n",
    "#less than 1000 samples. I kept same 40% as a size.\n",
    "X_train_sub, X_test_sub, y_train_sub, y_test_sub = train_test_split(features_sca2, labels, test_size=0.4, random_state=24)#0.4 good"
   ]
  },
  {
   "cell_type": "markdown",
   "metadata": {},
   "source": [
    "<h3> B: Logistic Regression Model"
   ]
  },
  {
   "cell_type": "code",
   "execution_count": 52,
   "metadata": {},
   "outputs": [
    {
     "name": "stdout",
     "output_type": "stream",
     "text": [
      "Confusion matrix:\n",
      " [[191  26]\n",
      " [ 47  59]]\n",
      "Accuracy of MLPClassifier :  0.7739938080495357\n"
     ]
    }
   ],
   "source": [
    "#Logistic regression model. Using only three features. Class wirght also tested as diabetic outcome is only about \n",
    "#35% of all.\n",
    "l_clf = LogisticRegression(random_state = 6, \n",
    "                           solver = 'liblinear', \n",
    "                           #class_weight='balanced',\n",
    "                           multi_class='ovr',\n",
    "                           penalty='l2')\n",
    "#Fit the model\n",
    "l_clf.fit(X_train_sub, y_train_sub)\n",
    "#Create training KPIs\n",
    "p_pred = l_clf.predict_proba(X_train_sub)\n",
    "y_pred = l_clf.predict(X_train_sub)\n",
    "score_ = l_clf.score(X_train_sub, y_train_sub)\n",
    "conf_m = confusion_matrix(y_train_sub, y_pred)\n",
    "report = classification_report(y_train_sub, y_pred)\n",
    "y_pred.shape\n",
    "#Confusion matrix.\n",
    "print('Confusion matrix:\\n',conf_m)\n",
    "#Accuracy\n",
    "print(\"Accuracy of MLPClassifier : \", accuracy(conf_m))"
   ]
  },
  {
   "cell_type": "code",
   "execution_count": null,
   "metadata": {},
   "outputs": [],
   "source": [
    "#Print complete KPI report.\n",
    "print('report:', report, sep='\\n')"
   ]
  },
  {
   "cell_type": "markdown",
   "metadata": {},
   "source": [
    "Observation: Not much delta on result after feature selection. 77.4% vs.78.6%. "
   ]
  },
  {
   "cell_type": "markdown",
   "metadata": {},
   "source": [
    "<h3> B: NN Model"
   ]
  },
  {
   "cell_type": "code",
   "execution_count": 47,
   "metadata": {},
   "outputs": [],
   "source": [
    "#Create NN network layout. \n",
    "clf_sub = MLPClassifier(solver='adam', \n",
    "                     alpha=1e-4, \n",
    "                     hidden_layer_sizes=(150,100,50), #150 best. 80 with lbfgs\n",
    "                     random_state=24, \n",
    "                     batch_size=8, \n",
    "                     verbose=False,\n",
    "                     early_stopping=True,\n",
    "                     activation='relu',\n",
    "                     learning_rate='constant',\n",
    "                     learning_rate_init=0.001,\n",
    "                     max_iter=300\n",
    "                     )"
   ]
  },
  {
   "cell_type": "code",
   "execution_count": 48,
   "metadata": {},
   "outputs": [
    {
     "data": {
      "text/plain": [
       "MLPClassifier(batch_size=8, early_stopping=True,\n",
       "              hidden_layer_sizes=(150, 100, 50), max_iter=300, random_state=24)"
      ]
     },
     "execution_count": 48,
     "metadata": {},
     "output_type": "execute_result"
    }
   ],
   "source": [
    "#Fit the NN model with new data.\n",
    "clf_sub.fit(X_train_sub, y_train_sub)"
   ]
  },
  {
   "cell_type": "code",
   "execution_count": 49,
   "metadata": {},
   "outputs": [
    {
     "name": "stdout",
     "output_type": "stream",
     "text": [
      "MLP training accuracy: 0.8234200743494424\n"
     ]
    }
   ],
   "source": [
    "#NN model training performance.\n",
    "print(\"MLP training accuracy:\",clf_sub.score(X_train_sub, y_train_sub))"
   ]
  },
  {
   "cell_type": "code",
   "execution_count": 50,
   "metadata": {},
   "outputs": [
    {
     "name": "stdout",
     "output_type": "stream",
     "text": [
      "MLP test accuracy: 1.0\n"
     ]
    }
   ],
   "source": [
    "#NN model test performance.\n",
    "print(\"MLP test accuracy:\",clf_sub.score(X_test_sub, y_test_sub))"
   ]
  },
  {
   "cell_type": "markdown",
   "metadata": {},
   "source": [
    "Observation: \n",
    "NN network training accuracy went down after feature selection. 77.7% vs 82.6%. It seem NN is able to find \n",
    "more information from the excluded data."
   ]
  },
  {
   "cell_type": "markdown",
   "metadata": {},
   "source": [
    "<h3> C: Assuming a patient just has just walked into a clinic. The clinician wants to predict his/her outcome."
   ]
  },
  {
   "cell_type": "code",
   "execution_count": 36,
   "metadata": {},
   "outputs": [],
   "source": [
    "#The patients' age is 35 years with a glucose level of 110 and BMI of 35. \n",
    "patient1 = pd.DataFrame({'Glucose':[110], 'BMI':[35], 'Age':[35]})\n",
    "patient_scaled = st.fit_transform(patient1)"
   ]
  },
  {
   "cell_type": "code",
   "execution_count": 37,
   "metadata": {},
   "outputs": [
    {
     "name": "stdout",
     "output_type": "stream",
     "text": [
      "Outcome = [0] LRM Probability = [[0.71778425 0.28221575]]\n"
     ]
    }
   ],
   "source": [
    "#Logistic regression patient outcome prediction.\n",
    "y_pred_prob = l_clf.predict_proba(patient_scaled)\n",
    "y_pred = l_clf.predict(patient_scaled)\n",
    "print(\"Outcome =\", y_pred, \"LRM Probability =\",y_pred_prob)"
   ]
  },
  {
   "cell_type": "markdown",
   "metadata": {},
   "source": [
    "LR model prediction is '0', non-diabetic. Probability is 71.7%."
   ]
  },
  {
   "cell_type": "code",
   "execution_count": 38,
   "metadata": {},
   "outputs": [
    {
     "name": "stdout",
     "output_type": "stream",
     "text": [
      "Outcome = [0] MLPC Probability = [[0.59938852 0.40061148]]\n"
     ]
    }
   ],
   "source": [
    "#NN patient outcome prediction.\n",
    "y_pred_prob = clf_sub.predict_proba(patient_scaled)\n",
    "y_pred = clf_sub.predict(patient_scaled)\n",
    "print(\"Outcome =\", y_pred, \"MLPC Probability =\",y_pred_prob)"
   ]
  },
  {
   "cell_type": "markdown",
   "metadata": {},
   "source": [
    "NN model prediction is '0', non-diabetic. Probability is 60%."
   ]
  },
  {
   "cell_type": "markdown",
   "metadata": {},
   "source": [
    "<h3> Well done...Submit your Python file as pdf file or as a python file."
   ]
  }
 ],
 "metadata": {
  "kernelspec": {
   "display_name": "Python 3",
   "language": "python",
   "name": "python3"
  },
  "language_info": {
   "codemirror_mode": {
    "name": "ipython",
    "version": 3
   },
   "file_extension": ".py",
   "mimetype": "text/x-python",
   "name": "python",
   "nbconvert_exporter": "python",
   "pygments_lexer": "ipython3",
   "version": "3.7.7"
  }
 },
 "nbformat": 4,
 "nbformat_minor": 2
}
